{
 "cells": [
  {
   "cell_type": "markdown",
   "metadata": {},
   "source": [
    "---\n",
    "---\n",
    "\n",
    "# Customer Retention- Churn Prediction\n",
    "\n",
    "_Using Azure Machine Learning Service to increase customer retention. Demonstrated on Telecom Churn Dataset_\n",
    "\n",
    "\n",
    "---\n",
    "---\n",
    "\n",
    "\n",
    "\n"
   ]
  },
  {
   "cell_type": "markdown",
   "metadata": {},
   "source": [
    "<img  src=\"customer.png\" width=\"800\"/>\n",
    "\n"
   ]
  },
  {
   "cell_type": "markdown",
   "metadata": {},
   "source": [
    "---\n",
    "\n",
    "# Contents\n",
    "---\n",
    "1. [Introduction](#Introduction)\n",
    "1. [Setup](#Setup)\n",
    "1. [Data](#Data)\n",
    "1. [Analysis](#Analysis)\n",
    "1. [Preprocess](#Preprocess)\n",
    "1. [Training](#Training)\n",
    "1. [Explanation](#Explanation)\n",
    "1. [Notes](#Notes)\n",
    "1. [References](#References)\n",
    "\n",
    "\n",
    "You will find code (short tutorial) regarding setup,  pandas data manipulation and analysis, training, evaluation and explanation all using azure AutoML package; training, evaluation using traditional methods then explanation using explicit azure explanation package."
   ]
  },
  {
   "cell_type": "markdown",
   "metadata": {},
   "source": [
    "---\n",
    "# Introduction\n",
    "---"
   ]
  },
  {
   "cell_type": "markdown",
   "metadata": {},
   "source": [
    "_Churn_ is the activity of customers leaving the services offered by any company or fitness gym. They could leave due to dissatisfaction of the services, or if they moved to a new place, or if their needs changed but the price didn't! There can be many reasons. Now, it would beneficial if there was some kind of survey at the end, when the customer left to understand why they leave, but in most of the cases, there isn't. \n",
    "\n",
    "__Aim__- To analyse customer profile data with respect to customer churn, to predict in advance the profiles of customers who are prone to leaving and to understand how to predictive model decided why a customer left or didn't leave. \n",
    "\n",
    "__Motivation__- Customer Churn is an interesting problem to solve using data analysis and machine learning. \n",
    "Understanding the behaviour of the customers can help in pre-emptively working on keeping them on. All of this can result in saving some potential loss for the company. \n"
   ]
  },
  {
   "cell_type": "markdown",
   "metadata": {},
   "source": [
    "<img src='process.png' />"
   ]
  },
  {
   "cell_type": "markdown",
   "metadata": {},
   "source": [
    "The above graphic is symbolises the process of analysis for customer retention. First, we collect the data and store it (either on your local machine or on the cloud datastore). Then, we move towards analysing the data, finding interesting trends and understanding the behaviour of the customer. \n",
    "\n",
    "Later comes the prediction part. Here we are to construct various models, then evaluate them using different metrics. Finally, we examine the model and it's reasoning for predicting someone to be in the category of churned/not churned.  "
   ]
  },
  {
   "cell_type": "markdown",
   "metadata": {},
   "source": [
    "---\n",
    "# Setup\n",
    "---\n",
    "\n",
    "All the setup for your development work can be accomplished in a Python notebook. One can perform all the functions on their local computer without accessing the workspace at all. Although here, we would like to take the advantage of the visualizations and logging features that come with accessing and storing in the workspace.\n",
    "\n",
    "Pre-requisits- To run the notebook you will need:\n",
    "\n",
    "1. A Python 3.6 notebook server with the following installed:\n",
    "    The Azure Machine Learning SDK for Python\n",
    "    matplotlib and scikit-learn\n",
    "1. The tutorial notebook and the file utils.py\n",
    "1. A machine learning workspace\n",
    "1. The configuration file for the workspace in the same directory as the notebook\n",
    "\n",
    "Check out this website for more details - https://docs.microsoft.com/en-us/azure/machine-learning/service/tutorial-train-models-with-aml#prerequisites\n"
   ]
  },
  {
   "cell_type": "markdown",
   "metadata": {},
   "source": [
    "### Setup includes:\n",
    "\n",
    "* Importing Python packages\n",
    "* Connecting to a workspace to enable communication between your local computer and remote resources\n",
    "* Creating an experiment to track all your runs\n",
    "* Creating a remote compute target to use for training\n"
   ]
  },
  {
   "cell_type": "code",
   "execution_count": 26,
   "metadata": {},
   "outputs": [
    {
     "name": "stdout",
     "output_type": "stream",
     "text": [
      "This notebook was validated with the AzureML SDK version 1.0.18.  You are currently using  1.0.18\n"
     ]
    }
   ],
   "source": [
    "# Import Python packages you need in this session. Also display the Azure Machine Learning SDK version.\n",
    "\n",
    "%matplotlib inline\n",
    "import numpy as np\n",
    "import matplotlib.pyplot as plt\n",
    "\n",
    "import azureml.core\n",
    "from azureml.core import Workspace\n",
    "\n",
    "# check core SDK version number\n",
    "print(\"This notebook was validated with the AzureML SDK version 1.0.18.  You are currently using \", azureml.core.VERSION)"
   ]
  },
  {
   "cell_type": "markdown",
   "metadata": {},
   "source": [
    "Create a workspace object from the existing workspace. `Workspace.from_config()` reads the file **config.json** and loads the details into an object named `ws`. The **config.json** file needs to be in the folder of the notebook files. There are multiple ways of generating this config file. You only need to generate this file once for each workspace that you use. \n",
    "\n",
    "One of the easiest ways is to go to the azure portal, select the workspace and click on the download config.json file. Your config file contains some important information, so do not publicly post it anywhere."
   ]
  },
  {
   "cell_type": "code",
   "execution_count": 27,
   "metadata": {},
   "outputs": [
    {
     "name": "stdout",
     "output_type": "stream",
     "text": [
      "Found the config file in: /Users/deeksharazdan/Azure/aml_config/config.json\n"
     ]
    }
   ],
   "source": [
    "# load workspace configuration from the config.json file in the current folder.\n",
    "ws = Workspace.from_config()\n",
    "#print(ws.name, ws.location, ws.resource_group, ws.location, sep = '\\t')"
   ]
  },
  {
   "cell_type": "markdown",
   "metadata": {},
   "source": [
    "Create an experiment to track the runs in your workspace. A workspace can have muliple experiments. "
   ]
  },
  {
   "cell_type": "code",
   "execution_count": 29,
   "metadata": {},
   "outputs": [
    {
     "data": {
      "text/html": [
       "<table style=\"width:100%\"><tr><th>Experiment</th><th>Id</th><th>Type</th><th>Status</th><th>Details Page</th><th>Docs Page</th></tr><tr><td>churn2_predict_auto_explain_model</td><td>c80854b3-def2-4748-a83d-f865511e3d6c</td><td></td><td>Running</td><td><a href=\"https://mlworkspace.azure.ai/portal/subscriptions/a989cac4-671d-45c6-9d2b-ea7e9d936600/resourceGroups/AmherstRG/providers/Microsoft.MachineLearningServices/workspaces/AmherstWorkSpace/experiments/churn2_predict_auto_explain_model/runs/c80854b3-def2-4748-a83d-f865511e3d6c\" target=\"_blank\" rel=\"noopener\">Link to Azure Portal</a></td><td><a href=\"https://docs.microsoft.com/en-us/python/api/azureml-core/azureml.core.run.Run?view=azure-ml-py\" target=\"_blank\" rel=\"noopener\">Link to Documentation</a></td></tr></table>"
      ],
      "text/plain": [
       "Run(Experiment: churn2_predict_auto_explain_model,\n",
       "Id: c80854b3-def2-4748-a83d-f865511e3d6c,\n",
       "Type: None,\n",
       "Status: Running)"
      ]
     },
     "execution_count": 29,
     "metadata": {},
     "output_type": "execute_result"
    }
   ],
   "source": [
    "# Create an experiment\n",
    "from azureml.core import Experiment\n",
    "from azureml.contrib.explain.model.explanation.explanation_client import ExplanationClient\n",
    "\n",
    "experiment_name = 'churn2_predict_auto_explain_model'\n",
    "experiment = Experiment(ws, experiment_name)\n",
    "\n",
    "run= experiment.start_logging(snapshot_directory=None) # Faster\n",
    "client = ExplanationClient.from_run(run)\n",
    "\n",
    "run"
   ]
  },
  {
   "cell_type": "markdown",
   "metadata": {},
   "source": [
    "Here you can see a link to the experiment you just created, onto the Azure Portal. Click on it to see run details. or visualizations that will be added later. "
   ]
  },
  {
   "cell_type": "markdown",
   "metadata": {},
   "source": [
    "\n",
    "\n",
    "---\n",
    "# Data\n",
    "---\n",
    "\n",
    "<img src=\"1.png\" width=\"150\" />\n",
    "\n",
    "\n",
    "The data we are using has these columns -\n",
    "'customerID', 'gender', 'SeniorCitizen', 'Partner', 'Dependents', 'tenure', 'PhoneService', 'MultipleLines', 'InternetService', 'OnlineSecurity', 'OnlineBackup', 'DeviceProtection', 'TechSupport', 'StreamingTV', 'StreamingMovies', 'Contract', 'PaperlessBilling', 'PaymentMethod', 'MonthlyCharges', 'TotalCharges', 'Churn'\n",
    "\n",
    "1. Customers who left within the last month – the column is called Churn\n",
    "1. Services that each customer has signed up for – phone, multiple lines, internet, online security, online backup, device protection, tech support, and streaming TV and movies\n",
    "1. Customer account information – how long they’ve been a customer, contract, payment method, paperless billing, monthly charges, and total charges\n",
    "1. Demographic info about customers – gender, age range, and if they have partners and dependents\n",
    "\n",
    "[The link for the data can be found in the references section.](#References)\n",
    "\n"
   ]
  },
  {
   "cell_type": "code",
   "execution_count": 86,
   "metadata": {},
   "outputs": [],
   "source": [
    "import pandas as pd\n",
    "\n",
    "# Reading file into a dataframe\n",
    "data=pd.read_csv(\"churn2.csv\");"
   ]
  },
  {
   "cell_type": "code",
   "execution_count": 35,
   "metadata": {
    "collapsed": true
   },
   "outputs": [
    {
     "data": {
      "text/html": [
       "<div>\n",
       "<style scoped>\n",
       "    .dataframe tbody tr th:only-of-type {\n",
       "        vertical-align: middle;\n",
       "    }\n",
       "\n",
       "    .dataframe tbody tr th {\n",
       "        vertical-align: top;\n",
       "    }\n",
       "\n",
       "    .dataframe thead th {\n",
       "        text-align: right;\n",
       "    }\n",
       "</style>\n",
       "<table border=\"1\" class=\"dataframe\">\n",
       "  <thead>\n",
       "    <tr style=\"text-align: right;\">\n",
       "      <th></th>\n",
       "      <th>customerID</th>\n",
       "      <th>gender</th>\n",
       "      <th>SeniorCitizen</th>\n",
       "      <th>Partner</th>\n",
       "      <th>Dependents</th>\n",
       "      <th>tenure</th>\n",
       "      <th>PhoneService</th>\n",
       "      <th>MultipleLines</th>\n",
       "      <th>InternetService</th>\n",
       "      <th>OnlineSecurity</th>\n",
       "      <th>...</th>\n",
       "      <th>DeviceProtection</th>\n",
       "      <th>TechSupport</th>\n",
       "      <th>StreamingTV</th>\n",
       "      <th>StreamingMovies</th>\n",
       "      <th>Contract</th>\n",
       "      <th>PaperlessBilling</th>\n",
       "      <th>PaymentMethod</th>\n",
       "      <th>MonthlyCharges</th>\n",
       "      <th>TotalCharges</th>\n",
       "      <th>Churn</th>\n",
       "    </tr>\n",
       "  </thead>\n",
       "  <tbody>\n",
       "    <tr>\n",
       "      <th>0</th>\n",
       "      <td>7590-VHVEG</td>\n",
       "      <td>Female</td>\n",
       "      <td>0</td>\n",
       "      <td>Yes</td>\n",
       "      <td>No</td>\n",
       "      <td>1</td>\n",
       "      <td>No</td>\n",
       "      <td>No phone service</td>\n",
       "      <td>DSL</td>\n",
       "      <td>No</td>\n",
       "      <td>...</td>\n",
       "      <td>No</td>\n",
       "      <td>No</td>\n",
       "      <td>No</td>\n",
       "      <td>No</td>\n",
       "      <td>Month-to-month</td>\n",
       "      <td>Yes</td>\n",
       "      <td>Electronic check</td>\n",
       "      <td>29.85</td>\n",
       "      <td>29.85</td>\n",
       "      <td>No</td>\n",
       "    </tr>\n",
       "    <tr>\n",
       "      <th>1</th>\n",
       "      <td>5575-GNVDE</td>\n",
       "      <td>Male</td>\n",
       "      <td>0</td>\n",
       "      <td>No</td>\n",
       "      <td>No</td>\n",
       "      <td>34</td>\n",
       "      <td>Yes</td>\n",
       "      <td>No</td>\n",
       "      <td>DSL</td>\n",
       "      <td>Yes</td>\n",
       "      <td>...</td>\n",
       "      <td>Yes</td>\n",
       "      <td>No</td>\n",
       "      <td>No</td>\n",
       "      <td>No</td>\n",
       "      <td>One year</td>\n",
       "      <td>No</td>\n",
       "      <td>Mailed check</td>\n",
       "      <td>56.95</td>\n",
       "      <td>1889.5</td>\n",
       "      <td>No</td>\n",
       "    </tr>\n",
       "    <tr>\n",
       "      <th>2</th>\n",
       "      <td>3668-QPYBK</td>\n",
       "      <td>Male</td>\n",
       "      <td>0</td>\n",
       "      <td>No</td>\n",
       "      <td>No</td>\n",
       "      <td>2</td>\n",
       "      <td>Yes</td>\n",
       "      <td>No</td>\n",
       "      <td>DSL</td>\n",
       "      <td>Yes</td>\n",
       "      <td>...</td>\n",
       "      <td>No</td>\n",
       "      <td>No</td>\n",
       "      <td>No</td>\n",
       "      <td>No</td>\n",
       "      <td>Month-to-month</td>\n",
       "      <td>Yes</td>\n",
       "      <td>Mailed check</td>\n",
       "      <td>53.85</td>\n",
       "      <td>108.15</td>\n",
       "      <td>Yes</td>\n",
       "    </tr>\n",
       "    <tr>\n",
       "      <th>3</th>\n",
       "      <td>7795-CFOCW</td>\n",
       "      <td>Male</td>\n",
       "      <td>0</td>\n",
       "      <td>No</td>\n",
       "      <td>No</td>\n",
       "      <td>45</td>\n",
       "      <td>No</td>\n",
       "      <td>No phone service</td>\n",
       "      <td>DSL</td>\n",
       "      <td>Yes</td>\n",
       "      <td>...</td>\n",
       "      <td>Yes</td>\n",
       "      <td>Yes</td>\n",
       "      <td>No</td>\n",
       "      <td>No</td>\n",
       "      <td>One year</td>\n",
       "      <td>No</td>\n",
       "      <td>Bank transfer (automatic)</td>\n",
       "      <td>42.30</td>\n",
       "      <td>1840.75</td>\n",
       "      <td>No</td>\n",
       "    </tr>\n",
       "    <tr>\n",
       "      <th>4</th>\n",
       "      <td>9237-HQITU</td>\n",
       "      <td>Female</td>\n",
       "      <td>0</td>\n",
       "      <td>No</td>\n",
       "      <td>No</td>\n",
       "      <td>2</td>\n",
       "      <td>Yes</td>\n",
       "      <td>No</td>\n",
       "      <td>Fiber optic</td>\n",
       "      <td>No</td>\n",
       "      <td>...</td>\n",
       "      <td>No</td>\n",
       "      <td>No</td>\n",
       "      <td>No</td>\n",
       "      <td>No</td>\n",
       "      <td>Month-to-month</td>\n",
       "      <td>Yes</td>\n",
       "      <td>Electronic check</td>\n",
       "      <td>70.70</td>\n",
       "      <td>151.65</td>\n",
       "      <td>Yes</td>\n",
       "    </tr>\n",
       "  </tbody>\n",
       "</table>\n",
       "<p>5 rows × 21 columns</p>\n",
       "</div>"
      ],
      "text/plain": [
       "   customerID  gender  SeniorCitizen Partner Dependents  tenure PhoneService  \\\n",
       "0  7590-VHVEG  Female              0     Yes         No       1           No   \n",
       "1  5575-GNVDE    Male              0      No         No      34          Yes   \n",
       "2  3668-QPYBK    Male              0      No         No       2          Yes   \n",
       "3  7795-CFOCW    Male              0      No         No      45           No   \n",
       "4  9237-HQITU  Female              0      No         No       2          Yes   \n",
       "\n",
       "      MultipleLines InternetService OnlineSecurity  ...  DeviceProtection  \\\n",
       "0  No phone service             DSL             No  ...                No   \n",
       "1                No             DSL            Yes  ...               Yes   \n",
       "2                No             DSL            Yes  ...                No   \n",
       "3  No phone service             DSL            Yes  ...               Yes   \n",
       "4                No     Fiber optic             No  ...                No   \n",
       "\n",
       "  TechSupport StreamingTV StreamingMovies        Contract PaperlessBilling  \\\n",
       "0          No          No              No  Month-to-month              Yes   \n",
       "1          No          No              No        One year               No   \n",
       "2          No          No              No  Month-to-month              Yes   \n",
       "3         Yes          No              No        One year               No   \n",
       "4          No          No              No  Month-to-month              Yes   \n",
       "\n",
       "               PaymentMethod MonthlyCharges  TotalCharges Churn  \n",
       "0           Electronic check          29.85         29.85    No  \n",
       "1               Mailed check          56.95        1889.5    No  \n",
       "2               Mailed check          53.85        108.15   Yes  \n",
       "3  Bank transfer (automatic)          42.30       1840.75    No  \n",
       "4           Electronic check          70.70        151.65   Yes  \n",
       "\n",
       "[5 rows x 21 columns]"
      ]
     },
     "execution_count": 35,
     "metadata": {},
     "output_type": "execute_result"
    }
   ],
   "source": [
    "data.head()"
   ]
  },
  {
   "cell_type": "code",
   "execution_count": 37,
   "metadata": {
    "collapsed": true
   },
   "outputs": [
    {
     "data": {
      "text/plain": [
       "customerID           object\n",
       "gender               object\n",
       "SeniorCitizen         int64\n",
       "Partner              object\n",
       "Dependents           object\n",
       "tenure                int64\n",
       "PhoneService         object\n",
       "MultipleLines        object\n",
       "InternetService      object\n",
       "OnlineSecurity       object\n",
       "OnlineBackup         object\n",
       "DeviceProtection     object\n",
       "TechSupport          object\n",
       "StreamingTV          object\n",
       "StreamingMovies      object\n",
       "Contract             object\n",
       "PaperlessBilling     object\n",
       "PaymentMethod        object\n",
       "MonthlyCharges      float64\n",
       "TotalCharges         object\n",
       "Churn                object\n",
       "dtype: object"
      ]
     },
     "execution_count": 37,
     "metadata": {},
     "output_type": "execute_result"
    }
   ],
   "source": [
    "data.dtypes"
   ]
  },
  {
   "cell_type": "code",
   "execution_count": 87,
   "metadata": {},
   "outputs": [],
   "source": [
    "# Here, total Charges should be float, let's change it\n",
    "data['TotalCharges']=pd.to_numeric(data['TotalCharges'],errors='coerce')"
   ]
  },
  {
   "cell_type": "markdown",
   "metadata": {},
   "source": [
    "First let's check if the dataset contains any NaN values. Here's how to do it."
   ]
  },
  {
   "cell_type": "code",
   "execution_count": 40,
   "metadata": {
    "collapsed": true
   },
   "outputs": [
    {
     "data": {
      "text/plain": [
       "customerID          False\n",
       "gender              False\n",
       "SeniorCitizen       False\n",
       "Partner             False\n",
       "Dependents          False\n",
       "tenure              False\n",
       "PhoneService        False\n",
       "MultipleLines       False\n",
       "InternetService     False\n",
       "OnlineSecurity      False\n",
       "OnlineBackup        False\n",
       "DeviceProtection    False\n",
       "TechSupport         False\n",
       "StreamingTV         False\n",
       "StreamingMovies     False\n",
       "Contract            False\n",
       "PaperlessBilling    False\n",
       "PaymentMethod       False\n",
       "MonthlyCharges      False\n",
       "TotalCharges         True\n",
       "Churn               False\n",
       "dtype: bool"
      ]
     },
     "execution_count": 40,
     "metadata": {},
     "output_type": "execute_result"
    }
   ],
   "source": [
    "data.isnull().any()"
   ]
  },
  {
   "cell_type": "markdown",
   "metadata": {},
   "source": [
    "Yes, the data contains NaN values in TotalCharges column. There are multiple ways to deal with missing values. \n",
    "1. We can remove the rows that contain missing values.\n",
    "1. If the missing value is of an float value feature, we can replace it with the mean of all the values in the  feature\n",
    "1. If the missing value is categorical, we can replace it with the most frequently occuring category.\n",
    "\n",
    "In our case, the missing values are in one column only- TotalCharges. Since it is a feature of float datatype, we can replace it with the mean of all the values in th e column. (Or remove that row entirely.)\n",
    "\n",
    "Let's see how many such rows there are. "
   ]
  },
  {
   "cell_type": "code",
   "execution_count": 41,
   "metadata": {},
   "outputs": [
    {
     "data": {
      "text/plain": [
       "11"
      ]
     },
     "execution_count": 41,
     "metadata": {},
     "output_type": "execute_result"
    }
   ],
   "source": [
    "# Count all NaN in a DataFrame (both columns & Rows)\n",
    "data.isnull().sum().sum()"
   ]
  },
  {
   "cell_type": "markdown",
   "metadata": {},
   "source": [
    "So there are 11 such rows. Let's not remove them. Instead let's replace them with the mean. "
   ]
  },
  {
   "cell_type": "code",
   "execution_count": 88,
   "metadata": {},
   "outputs": [],
   "source": [
    "data=data.fillna(data.mean())"
   ]
  },
  {
   "cell_type": "markdown",
   "metadata": {},
   "source": [
    "\n",
    "If you don't have to analyse, skip to the preprocessing\n",
    "\n",
    "[After the Analysis part is over, we will see  how to pre process the data for training.](#Preprocess)\n"
   ]
  },
  {
   "cell_type": "markdown",
   "metadata": {},
   "source": [
    "# Analysis\n",
    "\n",
    "<img src=\"2.png\" width=\"150\" />\n",
    "\n",
    "\n",
    "For any data science problem, one must first analyse the data. Perform statistical analysis to understand the underlying trends. For example, for any company, important aspects would be to understand their attrition and retention rates. In this example, we don't have date information, so we can't calculate them. \n",
    "\n",
    "Although we have a lot of customer profile information and information about the services purchased by the customers. We can get an understanding of which product is most bought, which products are bought together etc.. By having such preliminary analysis, we can bundle services together to increase the profits. \n"
   ]
  },
  {
   "cell_type": "markdown",
   "metadata": {},
   "source": [
    "## 1. Asking Questions"
   ]
  },
  {
   "cell_type": "code",
   "execution_count": 91,
   "metadata": {},
   "outputs": [],
   "source": [
    "import matplotlib.pyplot as plt\n",
    "from pandas.api.types import is_numeric_dtype\n",
    "import math\n",
    "\n",
    "\n",
    "def roundDown(x):\n",
    "    return int(math.floor(x / 10.0)) * 10\n",
    "\n",
    "def roundUp(x):\n",
    "    return int(math.ceil(x / 10.0)) * 10\n",
    "\n",
    "def getDist(data,column,name):\n",
    "        '''\n",
    "        This function displays and plots the histogram of a given column and what the count column should be named\n",
    "        Input- \n",
    "        data:   Datatype- Dataframe Pandas \n",
    "        column: Datatype- string  -contains the name of the column in the dataframe whose histogram is to be generated.\n",
    "        name:   Datatype- string  -has the name of the resulting groupby column of the histogram\n",
    "\n",
    "        returns-\n",
    "        None\n",
    "        '''\n",
    "\n",
    "        temp=data.groupby([column]).size().reset_index(name=name)\n",
    "        return temp\n",
    "\n",
    "\n",
    "\n",
    "class Plot():\n",
    "    \n",
    "    def __init__(self,figsize=None):\n",
    "        '''\n",
    "        Input- \n",
    "        figsize: Set the size of the figure if you'd want a bigger plot\n",
    "        '''\n",
    "        plt.figure(figsize=figsize)\n",
    "        \n",
    "        return \n",
    "\n",
    "    \n",
    "    def plotHist(self, data,column,name,label=None):\n",
    "        '''\n",
    "        This function displays and plots the histogram of a given column and what the count column should be named\n",
    "        Input- \n",
    "        data:   Datatype- Dataframe Pandas \n",
    "        column: Datatype- string  -contains the name of the column in the dataframe whose histogram is to be generated.\n",
    "        name:   Datatype- string  -has the name of the resulting groupby column of the histogram\n",
    "\n",
    "        returns-\n",
    "        None\n",
    "        '''\n",
    "        \n",
    "        \n",
    "        if(is_numeric_dtype(data[column])):\n",
    "            bins=10\n",
    "            minn=data[column].min()\n",
    "            minn=roundDown(minn)\n",
    "            \n",
    "            maxx=data[column].max()\n",
    "            maxx=roundUp(maxx)\n",
    "            binBoundaries = np.linspace(minn,maxx,bins,dtype=int)\n",
    "\n",
    "            data[column].hist(bins=binBoundaries, alpha=0.7,label=label) \n",
    "            \n",
    "            plt.xlabel(column)\n",
    "            plt.ylabel(name)\n",
    "            \n",
    "\n",
    "        else:\n",
    "            # If it is a categorical data, then make bar chart\n",
    "            temp=data.groupby([column]).size().reset_index(name=name)\n",
    "            plt.bar(temp[column],temp[name], alpha=0.6, label=label)\n",
    "            \n",
    "        if(label!= None):\n",
    "            plt.legend()\n",
    "            \n",
    "        return plt\n"
   ]
  },
  {
   "cell_type": "markdown",
   "metadata": {},
   "source": [
    "Services offered by the telecom company- PhoneService, MultipleLines, InternetService, OnlineSecurity, OnlineBackup, DeviceProtection, TechSupport, StreamingTV, StreamingMovies"
   ]
  },
  {
   "cell_type": "markdown",
   "metadata": {},
   "source": [
    "Q1. How does the distribution for the column 'StreamingMovies' differ for customers who have churned and those who have not churned?"
   ]
  },
  {
   "cell_type": "code",
   "execution_count": 89,
   "metadata": {},
   "outputs": [],
   "source": [
    "churned=data.loc[data['Churn'] =='Yes']\n",
    "notchurned=data.loc[data['Churn'] =='No']"
   ]
  },
  {
   "cell_type": "code",
   "execution_count": 93,
   "metadata": {},
   "outputs": [
    {
     "data": {
      "image/png": "[encoded data removed]",
      "text/plain": [
       "<Figure size 432x288 with 1 Axes>"
      ]
     },
     "metadata": {
      "needs_background": "light"
     },
     "output_type": "display_data"
    }
   ],
   "source": [
    "plot=Plot()\n",
    "plt=plot.plotHist(notchurned, 'StreamingMovies','Customers',label='Not Churned')\n",
    "plt=plot.plotHist(churned, 'StreamingMovies','Customers',label='Churned')\n",
    "# logging this image, in the portal.\n",
    "run.log_image('StreamingMovies3',plot=plt)\n",
    "plt.show()"
   ]
  },
  {
   "cell_type": "markdown",
   "metadata": {},
   "source": [
    "This piece of information is useful. We can see that within people who have churned, there are many people who don't have internet access. And once someone gets internet access, it's more likely that they'd stay on. So for people who don't have internet access, the company can give them a trial or some coupons for a few weeks or months. Once they get used to it, they'll keep using it. \n",
    "And since there are a lot more people leaving than staying on, this strategy will hopefully increase their customer retention."
   ]
  },
  {
   "cell_type": "markdown",
   "metadata": {},
   "source": [
    "Note- there are many. interesting things you can ask when you have the date. Things like customer attrition rate, retention rate. Analysis over time and things like that. But since this dataset doesn't have that, we can't do much."
   ]
  },
  {
   "cell_type": "markdown",
   "metadata": {},
   "source": [
    "## 2. Finding trends. Let us find interesting trends automatically in the dataset.\n",
    "Based on the example given above, we can find interesting insights using KL distribution.\n",
    "1. Generate distributions for churned customers\n",
    "1. Generate distributions for not churned customers\n",
    "1. Calculate KL divergence between them. Higher the KL divergence, the more interesting the trend\n",
    "1. Fetch top K trends with high KL divergence"
   ]
  },
  {
   "cell_type": "code",
   "execution_count": 58,
   "metadata": {},
   "outputs": [],
   "source": [
    "from scipy.stats import entropy\n",
    "import numpy as np\n",
    "import copy\n",
    "\n",
    "def calKL(dist1,dist2):\n",
    "    \n",
    "    '''\n",
    "        Input- \n",
    "        dist1: Distribution1 \n",
    "        dist2: Distribution2\n",
    "        These can be unnormalized.\n",
    "        \n",
    "        Returns-\n",
    "        KL divergence between the two distributions.\n",
    "    '''\n",
    "    # some distributions might be uneven, since there might be a group (churn, not-churned) taht might never\n",
    "    # choose a particular feature. So, we need to find such features and adjust the distribution for them to be\n",
    "    # of same length\n",
    "    \n",
    "    if(len(dist1)>len(dist2)):\n",
    "        l=copy.copy(dist1)\n",
    "        k=copy.copy(dist2)\n",
    "    else:\n",
    "        l=copy.copy(dist2)\n",
    "        k=copy.copy(dist1)\n",
    "    \n",
    "    dist1=[]\n",
    "    dist2=[]\n",
    "    \n",
    "    # smoothing for KL divergence- otherwise it goes to inf.\n",
    "    for index in l.keys():\n",
    "        if(k.get(index,0)):\n",
    "            dist1.append(l[index])\n",
    "            dist2.append(k[index])\n",
    "        else:\n",
    "            k[index]=0.001\n",
    "            dist1.append(l[index])\n",
    "            dist2.append(k[index])\n",
    "    \n",
    "        \n",
    "    kl=entropy(dist1,dist2)\n",
    "    return kl\n",
    "    "
   ]
  },
  {
   "cell_type": "code",
   "execution_count": 59,
   "metadata": {},
   "outputs": [
    {
     "data": {
      "text/plain": [
       "'Churn'"
      ]
     },
     "execution_count": 59,
     "metadata": {},
     "output_type": "execute_result"
    }
   ],
   "source": [
    "# removing columns that won't add anything to the analysis stage of the process.\n",
    "allcolumns=list(data.columns)\n",
    "# removing customerID\n",
    "allcolumns.pop(0)\n",
    "# removing churn\n",
    "allcolumns.pop(-1)"
   ]
  },
  {
   "cell_type": "code",
   "execution_count": 60,
   "metadata": {},
   "outputs": [],
   "source": [
    "# Name of the plot\n",
    "name='Customers'\n",
    "KL={}\n",
    "\n",
    "# Calculating kl divergence for all columns churn and not churn distributions\n",
    "for column in allcolumns:\n",
    "    \n",
    "    # calculating the distribution of the current column using getDist function created above. \n",
    "    # this is the first distribution- reference dist\n",
    "    temp=getDist(notchurned,column,name)\n",
    "    values=temp.values\n",
    "    dist1={}\n",
    "\n",
    "    for i in values:\n",
    "        dist1[i[0]]=i[1]\n",
    "    \n",
    "    # this is the second distribution- dist that needs to be compared to the reference dist\n",
    "    temp=getDist(churned,column,name)\n",
    "    values=temp.values\n",
    "    dist2={}\n",
    "\n",
    "    for i in values:\n",
    "        dist2[i[0]]=i[1]\n",
    "        \n",
    "    # calling function calKL defined above to calculate KL divergence. \n",
    "    kl=calKL(dist1,dist2)\n",
    "    KL[column]=kl"
   ]
  },
  {
   "cell_type": "markdown",
   "metadata": {},
   "source": [
    "In mathematical statistics, the Kullback–Leibler divergence (also called relative entropy) is a measure of how one probability distribution is different from a second, reference probability distribution.\n",
    "The Kullback–Leibler divergence was introduced by Solomon Kullback and Richard Leibler in 1951 as the directed divergence between two distributions\n",
    "\n",
    "\n",
    "~ Wikipedia. https://en.wikipedia.org/wiki/Kullback–Leibler_divergence\n",
    "\n",
    "Therefore, higher KL divergence means the two distributions are that much more dissimilar. Now, why do we care about dissimilarity?\n",
    "\n",
    "In our case, we are interested in the difference in choices made by people who churn, and the rest of the customers. We want to understand the reason why some customers are leaving. More importantly, we want to find if there is something we can do to stop them from leaving.\n",
    "\n",
    "So, if there is a difference in the general choices made by each of those groups (churned, not churned), the KL divergence between the two group's distributions will be high. So we can focus on those service where the choices of the two groups are drastically different."
   ]
  },
  {
   "cell_type": "code",
   "execution_count": 61,
   "metadata": {},
   "outputs": [],
   "source": [
    "# Sorting the kl divergence in descending order.\n",
    "sorted_KL= sorted(KL, key=KL.get, reverse=True)"
   ]
  },
  {
   "cell_type": "code",
   "execution_count": 62,
   "metadata": {
    "scrolled": false
   },
   "outputs": [
    {
     "data": {
      "image/png": "[encoded data removed]",
      "text/plain": [
       "<Figure size 576x432 with 1 Axes>"
      ]
     },
     "metadata": {
      "needs_background": "light"
     },
     "output_type": "display_data"
    },
    {
     "data": {
      "image/png": "[encoded data removed]",
      "text/plain": [
       "<Figure size 576x432 with 1 Axes>"
      ]
     },
     "metadata": {
      "needs_background": "light"
     },
     "output_type": "display_data"
    },
    {
     "data": {
      "image/png": "[encoded data removed]",
      "text/plain": [
       "<Figure size 576x432 with 1 Axes>"
      ]
     },
     "metadata": {
      "needs_background": "light"
     },
     "output_type": "display_data"
    },
    {
     "data": {
      "image/png": "[encoded data removed]",
      "text/plain": [
       "<Figure size 576x432 with 1 Axes>"
      ]
     },
     "metadata": {
      "needs_background": "light"
     },
     "output_type": "display_data"
    },
    {
     "data": {
      "image/png": "[encoded data removed]",
      "text/plain": [
       "<Figure size 576x432 with 1 Axes>"
      ]
     },
     "metadata": {
      "needs_background": "light"
     },
     "output_type": "display_data"
    },
    {
     "data": {
      "image/png": "[encoded data removed]",
      "text/plain": [
       "<Figure size 576x432 with 1 Axes>"
      ]
     },
     "metadata": {
      "needs_background": "light"
     },
     "output_type": "display_data"
    },
    {
     "data": {
      "image/png": "[encoded data removed]",
      "text/plain": [
       "<Figure size 576x432 with 1 Axes>"
      ]
     },
     "metadata": {
      "needs_background": "light"
     },
     "output_type": "display_data"
    },
    {
     "data": {
      "image/png": "[encoded data removed]",
      "text/plain": [
       "<Figure size 576x432 with 1 Axes>"
      ]
     },
     "metadata": {
      "needs_background": "light"
     },
     "output_type": "display_data"
    }
   ],
   "source": [
    "# select top K. This denotes the top K interesting trends/change in choices of the customers in the two groups. \n",
    "# for all the plots, use K=len(sorted_KL)\n",
    "K=8\n",
    "name=\"Customers\"\n",
    "for column in sorted_KL[:K]:\n",
    "    plot=Plot((8,6))\n",
    "    plt=plot.plotHist(notchurned,column,name,label='Not Churned')\n",
    "    plt=plot.plotHist(churned,column,name,label='Churned')\n",
    "    plt.title(column)\n",
    "    # logging \n",
    "    run.log_image(column,plot=plt)\n",
    "    plt.show()"
   ]
  },
  {
   "cell_type": "markdown",
   "metadata": {},
   "source": [
    "There are some interesting trends in the plots shown above. For example, the contract plot shows that most people who churn take the month-to-month contract. Maybe they are not aware of their yearly plan which happens to be cheaper. Hence there are many people who have not left the telecom plan with the company.\n",
    "\n",
    "The company can take additional steps to make their customers aware of their various contracts and monetary benefit that comes with it. After which people will take up longer contract, thereby increasing their customer retention. "
   ]
  },
  {
   "cell_type": "markdown",
   "metadata": {},
   "source": [
    "You can look at the images that were logged in the azure portal. Just click on the experiment and run number. Better yet, click on the link that is generated  after creating a run in the notebook.\n",
    "\n",
    "<img  src=\"log1.png\">"
   ]
  },
  {
   "cell_type": "markdown",
   "metadata": {},
   "source": [
    "-----\n",
    "# Preprocess\n",
    "_PREPROCESSING DATA FOR TRAINING_\n",
    "\n",
    "-----"
   ]
  },
  {
   "cell_type": "markdown",
   "metadata": {},
   "source": [
    "Here, we need to prepare the data for training purposes. We have to convert values of categorical features to numerical values. We need to do this in order for the training algorithm to understand the values of the categorical values. "
   ]
  },
  {
   "cell_type": "code",
   "execution_count": 87,
   "metadata": {},
   "outputs": [
    {
     "data": {
      "text/html": [
       "<div>\n",
       "<style scoped>\n",
       "    .dataframe tbody tr th:only-of-type {\n",
       "        vertical-align: middle;\n",
       "    }\n",
       "\n",
       "    .dataframe tbody tr th {\n",
       "        vertical-align: top;\n",
       "    }\n",
       "\n",
       "    .dataframe thead th {\n",
       "        text-align: right;\n",
       "    }\n",
       "</style>\n",
       "<table border=\"1\" class=\"dataframe\">\n",
       "  <thead>\n",
       "    <tr style=\"text-align: right;\">\n",
       "      <th></th>\n",
       "      <th>customerID</th>\n",
       "      <th>gender</th>\n",
       "      <th>SeniorCitizen</th>\n",
       "      <th>Partner</th>\n",
       "      <th>Dependents</th>\n",
       "      <th>tenure</th>\n",
       "      <th>PhoneService</th>\n",
       "      <th>MultipleLines</th>\n",
       "      <th>InternetService</th>\n",
       "      <th>OnlineSecurity</th>\n",
       "      <th>...</th>\n",
       "      <th>DeviceProtection</th>\n",
       "      <th>TechSupport</th>\n",
       "      <th>StreamingTV</th>\n",
       "      <th>StreamingMovies</th>\n",
       "      <th>Contract</th>\n",
       "      <th>PaperlessBilling</th>\n",
       "      <th>PaymentMethod</th>\n",
       "      <th>MonthlyCharges</th>\n",
       "      <th>TotalCharges</th>\n",
       "      <th>Churn</th>\n",
       "    </tr>\n",
       "  </thead>\n",
       "  <tbody>\n",
       "    <tr>\n",
       "      <th>0</th>\n",
       "      <td>7590-VHVEG</td>\n",
       "      <td>Female</td>\n",
       "      <td>0</td>\n",
       "      <td>Yes</td>\n",
       "      <td>No</td>\n",
       "      <td>1</td>\n",
       "      <td>No</td>\n",
       "      <td>No phone service</td>\n",
       "      <td>DSL</td>\n",
       "      <td>No</td>\n",
       "      <td>...</td>\n",
       "      <td>No</td>\n",
       "      <td>No</td>\n",
       "      <td>No</td>\n",
       "      <td>No</td>\n",
       "      <td>Month-to-month</td>\n",
       "      <td>Yes</td>\n",
       "      <td>Electronic check</td>\n",
       "      <td>29.85</td>\n",
       "      <td>29.85</td>\n",
       "      <td>No</td>\n",
       "    </tr>\n",
       "    <tr>\n",
       "      <th>1</th>\n",
       "      <td>5575-GNVDE</td>\n",
       "      <td>Male</td>\n",
       "      <td>0</td>\n",
       "      <td>No</td>\n",
       "      <td>No</td>\n",
       "      <td>34</td>\n",
       "      <td>Yes</td>\n",
       "      <td>No</td>\n",
       "      <td>DSL</td>\n",
       "      <td>Yes</td>\n",
       "      <td>...</td>\n",
       "      <td>Yes</td>\n",
       "      <td>No</td>\n",
       "      <td>No</td>\n",
       "      <td>No</td>\n",
       "      <td>One year</td>\n",
       "      <td>No</td>\n",
       "      <td>Mailed check</td>\n",
       "      <td>56.95</td>\n",
       "      <td>1889.50</td>\n",
       "      <td>No</td>\n",
       "    </tr>\n",
       "    <tr>\n",
       "      <th>2</th>\n",
       "      <td>3668-QPYBK</td>\n",
       "      <td>Male</td>\n",
       "      <td>0</td>\n",
       "      <td>No</td>\n",
       "      <td>No</td>\n",
       "      <td>2</td>\n",
       "      <td>Yes</td>\n",
       "      <td>No</td>\n",
       "      <td>DSL</td>\n",
       "      <td>Yes</td>\n",
       "      <td>...</td>\n",
       "      <td>No</td>\n",
       "      <td>No</td>\n",
       "      <td>No</td>\n",
       "      <td>No</td>\n",
       "      <td>Month-to-month</td>\n",
       "      <td>Yes</td>\n",
       "      <td>Mailed check</td>\n",
       "      <td>53.85</td>\n",
       "      <td>108.15</td>\n",
       "      <td>Yes</td>\n",
       "    </tr>\n",
       "    <tr>\n",
       "      <th>3</th>\n",
       "      <td>7795-CFOCW</td>\n",
       "      <td>Male</td>\n",
       "      <td>0</td>\n",
       "      <td>No</td>\n",
       "      <td>No</td>\n",
       "      <td>45</td>\n",
       "      <td>No</td>\n",
       "      <td>No phone service</td>\n",
       "      <td>DSL</td>\n",
       "      <td>Yes</td>\n",
       "      <td>...</td>\n",
       "      <td>Yes</td>\n",
       "      <td>Yes</td>\n",
       "      <td>No</td>\n",
       "      <td>No</td>\n",
       "      <td>One year</td>\n",
       "      <td>No</td>\n",
       "      <td>Bank transfer (automatic)</td>\n",
       "      <td>42.30</td>\n",
       "      <td>1840.75</td>\n",
       "      <td>No</td>\n",
       "    </tr>\n",
       "    <tr>\n",
       "      <th>4</th>\n",
       "      <td>9237-HQITU</td>\n",
       "      <td>Female</td>\n",
       "      <td>0</td>\n",
       "      <td>No</td>\n",
       "      <td>No</td>\n",
       "      <td>2</td>\n",
       "      <td>Yes</td>\n",
       "      <td>No</td>\n",
       "      <td>Fiber optic</td>\n",
       "      <td>No</td>\n",
       "      <td>...</td>\n",
       "      <td>No</td>\n",
       "      <td>No</td>\n",
       "      <td>No</td>\n",
       "      <td>No</td>\n",
       "      <td>Month-to-month</td>\n",
       "      <td>Yes</td>\n",
       "      <td>Electronic check</td>\n",
       "      <td>70.70</td>\n",
       "      <td>151.65</td>\n",
       "      <td>Yes</td>\n",
       "    </tr>\n",
       "  </tbody>\n",
       "</table>\n",
       "<p>5 rows × 21 columns</p>\n",
       "</div>"
      ],
      "text/plain": [
       "   customerID  gender  SeniorCitizen Partner Dependents  tenure PhoneService  \\\n",
       "0  7590-VHVEG  Female              0     Yes         No       1           No   \n",
       "1  5575-GNVDE    Male              0      No         No      34          Yes   \n",
       "2  3668-QPYBK    Male              0      No         No       2          Yes   \n",
       "3  7795-CFOCW    Male              0      No         No      45           No   \n",
       "4  9237-HQITU  Female              0      No         No       2          Yes   \n",
       "\n",
       "      MultipleLines InternetService OnlineSecurity  ...   DeviceProtection  \\\n",
       "0  No phone service             DSL             No  ...                 No   \n",
       "1                No             DSL            Yes  ...                Yes   \n",
       "2                No             DSL            Yes  ...                 No   \n",
       "3  No phone service             DSL            Yes  ...                Yes   \n",
       "4                No     Fiber optic             No  ...                 No   \n",
       "\n",
       "  TechSupport StreamingTV StreamingMovies        Contract PaperlessBilling  \\\n",
       "0          No          No              No  Month-to-month              Yes   \n",
       "1          No          No              No        One year               No   \n",
       "2          No          No              No  Month-to-month              Yes   \n",
       "3         Yes          No              No        One year               No   \n",
       "4          No          No              No  Month-to-month              Yes   \n",
       "\n",
       "               PaymentMethod MonthlyCharges  TotalCharges  Churn  \n",
       "0           Electronic check          29.85         29.85     No  \n",
       "1               Mailed check          56.95       1889.50     No  \n",
       "2               Mailed check          53.85        108.15    Yes  \n",
       "3  Bank transfer (automatic)          42.30       1840.75     No  \n",
       "4           Electronic check          70.70        151.65    Yes  \n",
       "\n",
       "[5 rows x 21 columns]"
      ]
     },
     "execution_count": 87,
     "metadata": {},
     "output_type": "execute_result"
    }
   ],
   "source": [
    "data.head()"
   ]
  },
  {
   "cell_type": "markdown",
   "metadata": {},
   "source": [
    "Now, in this dataset, we have many categorical variables. We convert Yes to 1, No to 0, and No Phone Service to 0 as well. We replace F/Female with 1, M/Male with 0. "
   ]
  },
  {
   "cell_type": "code",
   "execution_count": 95,
   "metadata": {},
   "outputs": [
    {
     "data": {
      "text/plain": [
       "array(['Month-to-month', 'One year', 'Two year'], dtype=object)"
      ]
     },
     "execution_count": 95,
     "metadata": {},
     "output_type": "execute_result"
    }
   ],
   "source": [
    "# Type of contracts\n",
    "data['Contract'].unique()"
   ]
  },
  {
   "cell_type": "markdown",
   "metadata": {},
   "source": [
    "Contract is a categorical variable, meaning it is not numerical. Although since this category of 'time' can be counted, we can replace. Month-to-month by 1, One year by 12, and Two year by 24. \n",
    "\n",
    "Understand why this is valid. When we convert a month to 1, year to 12 signifying (12 months), it means that. one year (12) is greater than one month (1)  by a factor of 12, which is true, hence the numbers are able to reciprocate the meaning of the originally categorical variables. Which makes this conversion valid.\n",
    "\n",
    "Following, we ought to replace the Yes and No in all the columns by a numerical category.(1/0)"
   ]
  },
  {
   "cell_type": "code",
   "execution_count": 66,
   "metadata": {},
   "outputs": [],
   "source": [
    "data=data.replace('Yes',1)\n",
    "data=data.replace('No',0)\n",
    "data=data.replace('No phone service',0)\n",
    "data=data.replace('No internet service',0)\n",
    "\n",
    "data['gender']=data['gender'].replace(['Female','female','F','f'], 1)\n",
    "data['gender']=data['gender'].replace(['Male','male','M','m'], 0)\n",
    "\n",
    "data['Contract']=data['Contract'].replace(['Month-to-month','One year','Two year'],[1,12,24])\n"
   ]
  },
  {
   "cell_type": "markdown",
   "metadata": {},
   "source": [
    "The following code inserts 3 columns, since there are 3 unique InternetService values (DSL, Fiber optic, No Service(0)). Basically it creates a one-hot-encoding for this categorical feature. \n",
    "1. For DSL  it is 0 1 0\n",
    "1. For No Service it is 1 0 0\n",
    "1. For Fiber it is 0 0 1"
   ]
  },
  {
   "cell_type": "code",
   "execution_count": 67,
   "metadata": {},
   "outputs": [],
   "source": [
    "data=pd.concat([data,pd.get_dummies(data.InternetService,prefix='IS')],axis=1)"
   ]
  },
  {
   "cell_type": "code",
   "execution_count": 110,
   "metadata": {},
   "outputs": [
    {
     "data": {
      "text/html": [
       "<div>\n",
       "<style scoped>\n",
       "    .dataframe tbody tr th:only-of-type {\n",
       "        vertical-align: middle;\n",
       "    }\n",
       "\n",
       "    .dataframe tbody tr th {\n",
       "        vertical-align: top;\n",
       "    }\n",
       "\n",
       "    .dataframe thead th {\n",
       "        text-align: right;\n",
       "    }\n",
       "</style>\n",
       "<table border=\"1\" class=\"dataframe\">\n",
       "  <thead>\n",
       "    <tr style=\"text-align: right;\">\n",
       "      <th></th>\n",
       "      <th>gender</th>\n",
       "      <th>SeniorCitizen</th>\n",
       "      <th>Partner</th>\n",
       "      <th>Dependents</th>\n",
       "      <th>tenure</th>\n",
       "      <th>PhoneService</th>\n",
       "      <th>MultipleLines</th>\n",
       "      <th>OnlineSecurity</th>\n",
       "      <th>OnlineBackup</th>\n",
       "      <th>DeviceProtection</th>\n",
       "      <th>...</th>\n",
       "      <th>StreamingTV</th>\n",
       "      <th>StreamingMovies</th>\n",
       "      <th>Contract</th>\n",
       "      <th>PaperlessBilling</th>\n",
       "      <th>MonthlyCharges</th>\n",
       "      <th>TotalCharges</th>\n",
       "      <th>Churn</th>\n",
       "      <th>IS_0</th>\n",
       "      <th>IS_DSL</th>\n",
       "      <th>IS_Fiber optic</th>\n",
       "    </tr>\n",
       "  </thead>\n",
       "  <tbody>\n",
       "    <tr>\n",
       "      <th>0</th>\n",
       "      <td>1</td>\n",
       "      <td>0</td>\n",
       "      <td>1</td>\n",
       "      <td>0</td>\n",
       "      <td>1</td>\n",
       "      <td>0</td>\n",
       "      <td>0</td>\n",
       "      <td>0</td>\n",
       "      <td>1</td>\n",
       "      <td>0</td>\n",
       "      <td>...</td>\n",
       "      <td>0</td>\n",
       "      <td>0</td>\n",
       "      <td>1</td>\n",
       "      <td>1</td>\n",
       "      <td>29.85</td>\n",
       "      <td>29.85</td>\n",
       "      <td>0</td>\n",
       "      <td>0</td>\n",
       "      <td>1</td>\n",
       "      <td>0</td>\n",
       "    </tr>\n",
       "    <tr>\n",
       "      <th>1</th>\n",
       "      <td>0</td>\n",
       "      <td>0</td>\n",
       "      <td>0</td>\n",
       "      <td>0</td>\n",
       "      <td>34</td>\n",
       "      <td>1</td>\n",
       "      <td>0</td>\n",
       "      <td>1</td>\n",
       "      <td>0</td>\n",
       "      <td>1</td>\n",
       "      <td>...</td>\n",
       "      <td>0</td>\n",
       "      <td>0</td>\n",
       "      <td>12</td>\n",
       "      <td>0</td>\n",
       "      <td>56.95</td>\n",
       "      <td>1889.50</td>\n",
       "      <td>0</td>\n",
       "      <td>0</td>\n",
       "      <td>1</td>\n",
       "      <td>0</td>\n",
       "    </tr>\n",
       "    <tr>\n",
       "      <th>2</th>\n",
       "      <td>0</td>\n",
       "      <td>0</td>\n",
       "      <td>0</td>\n",
       "      <td>0</td>\n",
       "      <td>2</td>\n",
       "      <td>1</td>\n",
       "      <td>0</td>\n",
       "      <td>1</td>\n",
       "      <td>1</td>\n",
       "      <td>0</td>\n",
       "      <td>...</td>\n",
       "      <td>0</td>\n",
       "      <td>0</td>\n",
       "      <td>1</td>\n",
       "      <td>1</td>\n",
       "      <td>53.85</td>\n",
       "      <td>108.15</td>\n",
       "      <td>1</td>\n",
       "      <td>0</td>\n",
       "      <td>1</td>\n",
       "      <td>0</td>\n",
       "    </tr>\n",
       "    <tr>\n",
       "      <th>3</th>\n",
       "      <td>0</td>\n",
       "      <td>0</td>\n",
       "      <td>0</td>\n",
       "      <td>0</td>\n",
       "      <td>45</td>\n",
       "      <td>0</td>\n",
       "      <td>0</td>\n",
       "      <td>1</td>\n",
       "      <td>0</td>\n",
       "      <td>1</td>\n",
       "      <td>...</td>\n",
       "      <td>0</td>\n",
       "      <td>0</td>\n",
       "      <td>12</td>\n",
       "      <td>0</td>\n",
       "      <td>42.30</td>\n",
       "      <td>1840.75</td>\n",
       "      <td>0</td>\n",
       "      <td>0</td>\n",
       "      <td>1</td>\n",
       "      <td>0</td>\n",
       "    </tr>\n",
       "    <tr>\n",
       "      <th>4</th>\n",
       "      <td>1</td>\n",
       "      <td>0</td>\n",
       "      <td>0</td>\n",
       "      <td>0</td>\n",
       "      <td>2</td>\n",
       "      <td>1</td>\n",
       "      <td>0</td>\n",
       "      <td>0</td>\n",
       "      <td>0</td>\n",
       "      <td>0</td>\n",
       "      <td>...</td>\n",
       "      <td>0</td>\n",
       "      <td>0</td>\n",
       "      <td>1</td>\n",
       "      <td>1</td>\n",
       "      <td>70.70</td>\n",
       "      <td>151.65</td>\n",
       "      <td>1</td>\n",
       "      <td>0</td>\n",
       "      <td>0</td>\n",
       "      <td>1</td>\n",
       "    </tr>\n",
       "  </tbody>\n",
       "</table>\n",
       "<p>5 rows × 21 columns</p>\n",
       "</div>"
      ],
      "text/plain": [
       "   gender  SeniorCitizen  Partner  Dependents  tenure  PhoneService  \\\n",
       "0       1              0        1           0       1             0   \n",
       "1       0              0        0           0      34             1   \n",
       "2       0              0        0           0       2             1   \n",
       "3       0              0        0           0      45             0   \n",
       "4       1              0        0           0       2             1   \n",
       "\n",
       "   MultipleLines  OnlineSecurity  OnlineBackup  DeviceProtection  \\\n",
       "0              0               0             1                 0   \n",
       "1              0               1             0                 1   \n",
       "2              0               1             1                 0   \n",
       "3              0               1             0                 1   \n",
       "4              0               0             0                 0   \n",
       "\n",
       "        ...        StreamingTV  StreamingMovies  Contract  PaperlessBilling  \\\n",
       "0       ...                  0                0         1                 1   \n",
       "1       ...                  0                0        12                 0   \n",
       "2       ...                  0                0         1                 1   \n",
       "3       ...                  0                0        12                 0   \n",
       "4       ...                  0                0         1                 1   \n",
       "\n",
       "   MonthlyCharges  TotalCharges  Churn  IS_0  IS_DSL  IS_Fiber optic  \n",
       "0           29.85         29.85      0     0       1               0  \n",
       "1           56.95       1889.50      0     0       1               0  \n",
       "2           53.85        108.15      1     0       1               0  \n",
       "3           42.30       1840.75      0     0       1               0  \n",
       "4           70.70        151.65      1     0       0               1  \n",
       "\n",
       "[5 rows x 21 columns]"
      ]
     },
     "execution_count": 110,
     "metadata": {},
     "output_type": "execute_result"
    }
   ],
   "source": [
    "data.head(5)"
   ]
  },
  {
   "cell_type": "code",
   "execution_count": 68,
   "metadata": {},
   "outputs": [],
   "source": [
    "# dropping some columns from the dataset that might not aid in prediction.\n",
    "# we don't care about Customer ID, since it is going to be unique for everyone. \n",
    "# also there  are too many  payment method types (4), with most of them being credit card. Doesn't matter much. \n",
    "data=data.drop(['customerID','InternetService','PaymentMethod'],axis=1)"
   ]
  },
  {
   "cell_type": "code",
   "execution_count": 69,
   "metadata": {},
   "outputs": [
    {
     "data": {
      "text/plain": [
       "'Churn'"
      ]
     },
     "execution_count": 69,
     "metadata": {},
     "output_type": "execute_result"
    }
   ],
   "source": [
    "# Removing the last column, since it is the one that we outght to predict.\n",
    "all_columns=list(data.columns)\n",
    "all_columns.pop(-4)"
   ]
  },
  {
   "cell_type": "code",
   "execution_count": 70,
   "metadata": {},
   "outputs": [],
   "source": [
    "X=data[all_columns]\n",
    "Y=data['Churn'].values.flatten()"
   ]
  },
  {
   "cell_type": "markdown",
   "metadata": {},
   "source": [
    "---\n",
    "# Training\n",
    "_TRAINING AND PREDICTION_\n",
    "\n",
    "---\n",
    "\n",
    "<img src=\"3.png\" width=\"200\" />\n",
    "\n"
   ]
  },
  {
   "cell_type": "markdown",
   "metadata": {},
   "source": [
    "## 1. Training with AutoML\n",
    "_When training with autoML, you can get the model explanation too. Just set the flag of model_explanability to be True."
   ]
  },
  {
   "cell_type": "code",
   "execution_count": 71,
   "metadata": {},
   "outputs": [],
   "source": [
    "from sklearn.model_selection import train_test_split\n",
    "\n",
    "x_train, x_test, y_train, y_test = train_test_split(X,Y, test_size=0.2, random_state=223)"
   ]
  },
  {
   "cell_type": "code",
   "execution_count": 72,
   "metadata": {},
   "outputs": [],
   "source": [
    "import logging\n",
    "from azureml.train.automl import AutoMLConfig"
   ]
  },
  {
   "cell_type": "markdown",
   "metadata": {},
   "source": [
    "The AutoMLConfig object defines the settings and data for an AutoML training job. Here, we set necessary inputs like the task type, the number of AutoML iterations to try, and the training and validation data.\n",
    "AutoML will currently train a classification-type model for a given training set. \n",
    "\n",
    "\n",
    "|Property|Description|\n",
    "|-|-|\n",
    "|**task**|classification or regression|\n",
    "|**primary_metric**|This is the metric that you want to optimize. Classification supports the following primary metrics: <br><i>accuracy</i><br><i>AUC_weighted</i><br><i>average_precision_score_weighted</i><br><i>norm_macro_recall</i><br><i>precision_score_weighted</i>|\n",
    "|**max_time_sec**|Time limit in minutes for each iterations|\n",
    "|**iterations**|Number of iterations. In each iteration Auto ML trains the data with a specific pipeline|\n",
    "|**X**|(sparse) array-like, shape = [n_samples, n_features]|\n",
    "|**y**|(sparse) array-like, shape = [n_samples, ], [n_samples, n_classes]<br>Multi-class targets. An indicator matrix turns on multilabel classification.  This should be an array of integers. |\n",
    "|**X_valid**|(sparse) array-like, shape = [n_samples, n_features]|\n",
    "|**y_valid**|(sparse) array-like, shape = [n_samples, ], [n_samples, n_classes]|\n",
    "|**model_explainability**|Indicate to explain each trained pipeline or not |\n",
    "|**path**|Relative path to the project folder.  AutoML stores configuration files for the experiment under this folder. You can specify a new empty folder. |\n",
    "\n",
    "Now, you can do all of preprocessing before the training stage, or just set the flag of 'preprocess' in the AutoMLConfig as True and all the preprocessing will be taken care of. Although, it is highly likely that the Contract column will be treated as a categorical varible after preprocessing as well, instead of the integer transformation that we had made.\n",
    "\n",
    "Now, here we have merged the training and explanation process using the autoML package. So, for that we need to provide validation sets for the explanation since it doesn't support cross validation. \n",
    "If you are not interested in model explanation and want cross validation, just use the parameter n_cross_validations = K, for K fold cross validation."
   ]
  },
  {
   "cell_type": "code",
   "execution_count": 73,
   "metadata": {},
   "outputs": [],
   "source": [
    "project_folder='/Users/deeksharazdan/AzNotebooks/Experiments_Deeksha/churn/Telecom'\n",
    "automl_config = AutoMLConfig(task = 'classification',\n",
    "                             debug_log = 'automl_errors.log',\n",
    "                             primary_metric = 'average_precision_score_weighted',\n",
    "                             iteration_timeout_minutes = 60,\n",
    "                             iterations = 5,\n",
    "                             verbosity = logging.INFO,\n",
    "                             X = x_train, \n",
    "                             y = y_train,\n",
    "                             path = project_folder,\n",
    "                             preprocess = True,\n",
    "                             model_explainability=True,\n",
    "                             X_valid = x_test,\n",
    "                             y_valid = y_test\n",
    "                            )"
   ]
  },
  {
   "cell_type": "markdown",
   "metadata": {},
   "source": [
    "You can now submit a new training run. For local runs, the execution is synchronous. Depending on the data and number of iterations this operation may take several minutes.\n",
    "Information from each iteration will be printed to the console"
   ]
  },
  {
   "cell_type": "code",
   "execution_count": 74,
   "metadata": {},
   "outputs": [
    {
     "name": "stdout",
     "output_type": "stream",
     "text": [
      "Running on local machine\n",
      "Parent Run ID: AutoML_ca928c1b-1abf-4a8a-9576-49fa91d30b52\n",
      "********************************************************************************************************************\n",
      "ITERATION: The iteration being evaluated.\n",
      "PIPELINE: A summary description of the pipeline being evaluated.\n",
      "SAMPLING %: Percent of the training data to sample.\n",
      "DURATION: Time taken for the current iteration.\n",
      "METRIC: The result of computing score on the fitted pipeline.\n",
      "BEST: The best observed score thus far.\n",
      "********************************************************************************************************************\n",
      "\n",
      " ITERATION   PIPELINE                                       SAMPLING %  DURATION      METRIC      BEST\n",
      "         0   StandardScalerWrapper SGD                      100.0000    0:00:08       0.6435    0.6435\n",
      "         1   StandardScalerWrapper ExtremeRandomTrees       100.0000    0:00:08       0.6530    0.6530\n",
      "         2   StandardScalerWrapper SGD                      100.0000    0:00:07       0.6253    0.6530\n",
      "         3   MinMaxScaler LightGBM                          100.0000    0:00:07       0.6529    0.6530\n",
      "         4   Ensemble                                       100.0000    0:00:13       0.6573    0.6573\n"
     ]
    }
   ],
   "source": [
    "local_run = experiment.submit(automl_config, show_output = True)"
   ]
  },
  {
   "cell_type": "markdown",
   "metadata": {},
   "source": [
    "### This is how it looks like in  the portal. Choose a particular iteration of the autoML to reveal all the metrics captured by autoML."
   ]
  },
  {
   "cell_type": "markdown",
   "metadata": {},
   "source": [
    "<img src=\"automl1.png\" />"
   ]
  },
  {
   "cell_type": "markdown",
   "metadata": {},
   "source": [
    "### Once you click on a specific iteration number (in  this is case), this is what you will see."
   ]
  },
  {
   "cell_type": "markdown",
   "metadata": {},
   "source": [
    "<img src=\"automl2.png\" />"
   ]
  },
  {
   "cell_type": "code",
   "execution_count": 198,
   "metadata": {},
   "outputs": [
    {
     "data": {
      "application/vnd.jupyter.widget-view+json": {
       "model_id": "95a5c7269aad4456b8b151232be4c66f",
       "version_major": 2,
       "version_minor": 0
      },
      "text/plain": [
       "_AutoMLWidget(widget_settings={'childWidgetDisplay': 'popup', 'send_telemetry': True, 'log_level': 'INFO', 'sd…"
      ]
     },
     "metadata": {},
     "output_type": "display_data"
    }
   ],
   "source": [
    "from azureml.widgets import RunDetails\n",
    "RunDetails(local_run).show() "
   ]
  },
  {
   "cell_type": "markdown",
   "metadata": {},
   "source": [
    "### Retrieve the Best Model\n",
    "Each run within an Experiment stores serialized (i.e. pickled) pipelines from the AutoML iterations. We can now retrieve the pipeline with the best performance on the validation dataset:"
   ]
  },
  {
   "cell_type": "code",
   "execution_count": 129,
   "metadata": {},
   "outputs": [],
   "source": [
    "best_run, fitted_model = local_run.get_output()"
   ]
  },
  {
   "cell_type": "code",
   "execution_count": 132,
   "metadata": {},
   "outputs": [],
   "source": [
    "ypred=fitted_model.predict(x_test)"
   ]
  },
  {
   "cell_type": "code",
   "execution_count": 133,
   "metadata": {},
   "outputs": [
    {
     "data": {
      "text/plain": [
       "0.4955252825390189"
      ]
     },
     "execution_count": 133,
     "metadata": {},
     "output_type": "execute_result"
    }
   ],
   "source": [
    "from sklearn.metrics import average_precision_score\n",
    "average_precision_score(y_test, ypred)  "
   ]
  },
  {
   "cell_type": "markdown",
   "metadata": {},
   "source": [
    "### Model explanation\n",
    "One can either extract the best model explanation or look at it in the portal by clicking the best iteration number. "
   ]
  },
  {
   "cell_type": "markdown",
   "metadata": {},
   "source": [
    "<img src=\"automl3.png\" />"
   ]
  },
  {
   "cell_type": "markdown",
   "metadata": {},
   "source": [
    "## 2. General Training process \n",
    "_TRAINING WITHOUT AUTOML_\n",
    "\n",
    "<img src=\"4.png\"  width=\"100\" />\n",
    "\n",
    "\n",
    "In one of the papers that had a similar dataset on Telecom churn, it concluded with Random forest working the best- https://thesai.org/Downloads/Volume9No2/Paper_38-Machine_Learning_Techniques_for_Customer_Retention.pdf\n",
    "\n",
    "Considering that the output of random forests is the majority vote by a large number of independent decision trees and each tree is naturally interpretable.\n",
    "\n",
    "The global feature importance of random forests can be quantified by the total decrease in node impurity averaged over all trees of the ensemble (“mean decrease impurity”).\n",
    "\n",
    "For one instance, because the decision paths in all the trees are well tracked, we can use the difference between the mean value of data points in a parent node between that of a child node to approximate the contribution of this split. "
   ]
  },
  {
   "cell_type": "markdown",
   "metadata": {},
   "source": [
    "Here we will require preprocessed data. If you haven't preprocessed the data, jump to [preprocess](#Preprocess)."
   ]
  },
  {
   "cell_type": "markdown",
   "metadata": {},
   "source": [
    "### Deciding on an Evaluation metric\n",
    "Let's start with a basic evaluation metric of classification models, i.e. accuracy  score."
   ]
  },
  {
   "cell_type": "code",
   "execution_count": 75,
   "metadata": {},
   "outputs": [],
   "source": [
    "from sklearn.ensemble import RandomForestClassifier"
   ]
  },
  {
   "cell_type": "code",
   "execution_count": 76,
   "metadata": {},
   "outputs": [],
   "source": [
    "clf = RandomForestClassifier(n_estimators=10, criterion='entropy')\n",
    "clf.fit(x_train, y_train)\n",
    "ypred = clf.predict(x_test)"
   ]
  },
  {
   "cell_type": "code",
   "execution_count": 77,
   "metadata": {},
   "outputs": [],
   "source": [
    "from sklearn.metrics import accuracy_score"
   ]
  },
  {
   "cell_type": "code",
   "execution_count": 78,
   "metadata": {},
   "outputs": [
    {
     "data": {
      "text/plain": [
       "0.7764371894960965"
      ]
     },
     "execution_count": 78,
     "metadata": {},
     "output_type": "execute_result"
    }
   ],
   "source": [
    "accuracy_score(y_test, ypred)"
   ]
  },
  {
   "cell_type": "markdown",
   "metadata": {},
   "source": [
    "Ah! 77% Accuracy. Before judging the result, let's see how many data samples of each class are in the dataset.  "
   ]
  },
  {
   "cell_type": "code",
   "execution_count": 117,
   "metadata": {},
   "outputs": [
    {
     "data": {
      "text/plain": [
       "(1490, 4144)"
      ]
     },
     "execution_count": 117,
     "metadata": {},
     "output_type": "execute_result"
    }
   ],
   "source": [
    "# Number of Samples for class 1, Number of samples for class 0\n",
    "sum(y_train),len(y_train)-sum(y_train)"
   ]
  },
  {
   "cell_type": "code",
   "execution_count": 118,
   "metadata": {},
   "outputs": [
    {
     "data": {
      "text/plain": [
       "(379, 1030)"
      ]
     },
     "execution_count": 118,
     "metadata": {},
     "output_type": "execute_result"
    }
   ],
   "source": [
    "# Number of Samples for class 1, Number of samples for class 0\n",
    "sum(y_test),len(y_test)-sum(y_test)"
   ]
  },
  {
   "cell_type": "markdown",
   "metadata": {},
   "source": [
    "Here, we can see that there are more samples for the class Not Churn (0), and less samples for the class Churn (1). We have an unbalanced dataset. Hence this accuracy score, isn't good. This is also confirmed by the confusion matrix shown below."
   ]
  },
  {
   "cell_type": "code",
   "execution_count": 32,
   "metadata": {},
   "outputs": [
    {
     "data": {
      "text/plain": [
       "array([[924, 106],\n",
       "       [209, 170]])"
      ]
     },
     "execution_count": 32,
     "metadata": {},
     "output_type": "execute_result"
    }
   ],
   "source": [
    "from sklearn.metrics import confusion_matrix\n",
    "confusion_matrix(y_test, ypred)"
   ]
  },
  {
   "cell_type": "markdown",
   "metadata": {},
   "source": [
    "Classification for class 0 is done well as opposed to class 1. Although that is not surprising, since in the  training data there are large number of samples for class 0 as opposed to class 1.\n",
    "\n",
    "So how to we deal with unbalanced data? \n",
    "1. Ignore it. (Use evaluation metrics suitable for unbalanced datasets)\n",
    "1. Upscale/Downscale the dataset to maintain the number of samples in each class to be the same. (And then use accuracy score.)\n"
   ]
  },
  {
   "cell_type": "markdown",
   "metadata": {},
   "source": [
    "#### Option 1. \n",
    "You will notice that in the AutoML training process, we used average_precision_score_weighted as the primary metric. The reason being unbalanced dataset. This metric works better than accuracy for unbalanced dataset, and  this is what we will use here as well.\n",
    "\n",
    "Average precision summarizes a precision-recall curve as the weighted mean of precisions achieved at each threshold, with the increase in recall from the previous threshold used as the weight. The maxiumum value of AP can be 1."
   ]
  },
  {
   "cell_type": "markdown",
   "metadata": {},
   "source": [
    "### Training algorithm 1\n",
    "_Random Forest_"
   ]
  },
  {
   "cell_type": "code",
   "execution_count": 21,
   "metadata": {},
   "outputs": [
    {
     "data": {
      "text/plain": [
       "0.4342202314184539"
      ]
     },
     "execution_count": 21,
     "metadata": {},
     "output_type": "execute_result"
    }
   ],
   "source": [
    "from sklearn.metrics import average_precision_score\n",
    "\n",
    "average_precision_score(y_test, ypred, average='weighted')"
   ]
  },
  {
   "cell_type": "markdown",
   "metadata": {},
   "source": [
    "Now, this number can really tell us how our classifier is. Since we started with RandomForest classifier, the next step seems to be the non linear classifer. "
   ]
  },
  {
   "cell_type": "markdown",
   "metadata": {},
   "source": [
    "### Training algorithm 2\n",
    "_Support Vector Machines_"
   ]
  },
  {
   "cell_type": "code",
   "execution_count": 59,
   "metadata": {},
   "outputs": [],
   "source": [
    "from sklearn.svm import SVC"
   ]
  },
  {
   "cell_type": "code",
   "execution_count": 65,
   "metadata": {},
   "outputs": [],
   "source": [
    "clf=SVC(kernel='poly', class_weight='balanced')\n",
    "clf.fit(x_train, y_train)\n",
    "ypred = clf.predict(x_test)"
   ]
  },
  {
   "cell_type": "code",
   "execution_count": 66,
   "metadata": {},
   "outputs": [
    {
     "data": {
      "text/plain": [
       "0.4099152568538064"
      ]
     },
     "execution_count": 66,
     "metadata": {},
     "output_type": "execute_result"
    }
   ],
   "source": [
    "average_precision_score(y_test, ypred, average='weighted')  "
   ]
  },
  {
   "cell_type": "markdown",
   "metadata": {},
   "source": [
    "### Training algorithm 3\n",
    "_Multi Layer Perceptron_"
   ]
  },
  {
   "cell_type": "code",
   "execution_count": 17,
   "metadata": {},
   "outputs": [],
   "source": [
    "from sklearn.neural_network import MLPClassifier"
   ]
  },
  {
   "cell_type": "code",
   "execution_count": 24,
   "metadata": {},
   "outputs": [],
   "source": [
    "clf=MLPClassifier(hidden_layer_sizes=(50,50),learning_rate_init=0.005,random_state=50)\n",
    "clf.fit(x_train, y_train)\n",
    "ypred = clf.predict(x_test)"
   ]
  },
  {
   "cell_type": "code",
   "execution_count": 25,
   "metadata": {},
   "outputs": [
    {
     "data": {
      "text/plain": [
       "0.4206677281455949"
      ]
     },
     "execution_count": 25,
     "metadata": {},
     "output_type": "execute_result"
    }
   ],
   "source": [
    "average_precision_score(y_test, ypred, average='weighted') "
   ]
  },
  {
   "cell_type": "markdown",
   "metadata": {},
   "source": [
    "Since Random Forest has the best AP score, we choose it to be the  model. "
   ]
  },
  {
   "cell_type": "markdown",
   "metadata": {},
   "source": [
    "---\n",
    "# Explanation\n",
    "_USING AZUREML EXPLANATION MODULE_\n",
    "\n",
    "---\n",
    "\n",
    "<img src=\"5.png\" width=\"150\" />\n",
    "\n",
    "This classification (global/local explanation) of interpretation means whether the interpretation method explains a single prediction or the entire model behavior. To comprehend and interpret the whole model at once, we need global interpretability.\n",
    "\n",
    "Global- How does the model make predictions? How do subsets of the model influence model decisions? Trying to understand feature interactions and importances is always a good step towards understanding global interpretation. \n",
    "\n",
    "Of course, visualizing features after more than two or three dimensions becomes quite difficult when trying to analyze interactions. \n",
    "\n",
    "\n"
   ]
  },
  {
   "cell_type": "code",
   "execution_count": 81,
   "metadata": {},
   "outputs": [],
   "source": [
    "import azureml.core\n",
    "from azureml.core import Workspace, Experiment, Run\n",
    "from azureml.contrib.explain.model.tabular_explainer import TabularExplainer\n",
    "from azureml.contrib.explain.model.explanation.explanation_client import ExplanationClient"
   ]
  },
  {
   "cell_type": "markdown",
   "metadata": {},
   "source": [
    "To address different sophistication levels and needs of the users, the SDK introduces two sets of explainers, Meta Explainers and Direct Explainers.\n",
    "\n",
    "Direct Explainers are the explainers coming straight from the integrated libraries such as SHAP, LIME, etc.. The MLI SDK wraps all the explainers so they have a common API and output format, but otherwise provides them to users without major changes. Data scientists can invoke a Direct Explainer if they have good knowledge of the explainer and prefer to call it directly, either because they know which one they would like to use or because they would like to evaluate performance of individual explanation methods.\n",
    "\n",
    "`TabularExplainer`, `TextExplainer` and `ImageExplainer` are the Meta Explainers, which automatically select a suitable direct explainer and generate the best explanation info based on the given model and data sets. `TabularExplainer`, `TextExplainer` and `ImageExplainer` should be called on tabular, text and image datasets respectively.  The Meta Explainers leverage all the libraries (SHAP, LIME, GA2M, Mimic, etc.) that we have integrated or developed."
   ]
  },
  {
   "cell_type": "code",
   "execution_count": 82,
   "metadata": {},
   "outputs": [],
   "source": [
    "model=clf\n",
    "tabular_explainer = TabularExplainer(model, x_train)"
   ]
  },
  {
   "cell_type": "markdown",
   "metadata": {},
   "source": [
    "Typically, a feature’s importance is the increase in the model’s prediction error after we permuted the feature’s values. However, frameworks like SHAP, use a combination of feature contributions and game theory to come up with SHAP values. Then, it computes the global feature importance by taking the average of the SHAP value magnitudes across the dataset. \n",
    "\n",
    "The permutation feature importance measurement was introduced for Random Forests by Breiman (2001). Based on this idea, Fisher, Rudin, and Dominici (2018) proposed a model-agnostic version of the feature importance — they called it Model Reliance."
   ]
  },
  {
   "cell_type": "markdown",
   "metadata": {},
   "source": [
    "## 1. Global explanation"
   ]
  },
  {
   "cell_type": "code",
   "execution_count": 83,
   "metadata": {},
   "outputs": [],
   "source": [
    "explanation = tabular_explainer.explain_global(x_test)"
   ]
  },
  {
   "cell_type": "markdown",
   "metadata": {},
   "source": [
    "Once uploaded you can view the explanation in the portal"
   ]
  },
  {
   "cell_type": "code",
   "execution_count": 43,
   "metadata": {},
   "outputs": [],
   "source": [
    "# uploading the explanation to the cloud. One can visualize the explanation there.\n",
    "client.upload_model_explanation(explanation)"
   ]
  },
  {
   "cell_type": "markdown",
   "metadata": {},
   "source": [
    "This is how you can record your explanation generated from the azureML explain package onto the azure cloud. The following cell shows the output. "
   ]
  },
  {
   "cell_type": "markdown",
   "metadata": {},
   "source": [
    "<img src=\"explain1.png\" width=\"500\" />"
   ]
  },
  {
   "cell_type": "markdown",
   "metadata": {},
   "source": [
    "When you pass nothing in the paranthesis of this function, it returns all the features already ranked as per its importance, or else you can specify a value to fetch top- K important features, and their values.\n"
   ]
  },
  {
   "cell_type": "code",
   "execution_count": 44,
   "metadata": {},
   "outputs": [],
   "source": [
    "global_importance_values = explanation.get_ranked_global_values()\n",
    "global_importance_names = explanation.get_ranked_global_names()"
   ]
  },
  {
   "cell_type": "markdown",
   "metadata": {},
   "source": [
    "## 2. Explain individual instance predictions (local explanation) \n",
    "\n",
    "\n",
    "Local- Why did the model make specific decisions for a single instance? and Why did the model make specific decisions for a group of instances? For local interpretability, we do not care about the inherent structure or assumptions of a model and we treat it as a black box. \n",
    "\n",
    "For understanding prediction decisions for a single datapoint, we focus specifically on that datapoint and look at a local subregion in our feature space around that point, and try to understand model decisions for that point based on this local region. "
   ]
  },
  {
   "cell_type": "code",
   "execution_count": 72,
   "metadata": {},
   "outputs": [],
   "source": [
    "# you can directly get local importance values for all test data by this code\n",
    "# explanation = tabular_explainer.explain_local(x_test)\n",
    "\n",
    "# Although, if you like to go one sample at a time, you can use this code-\n",
    "# since x_test is a df. use - x_test.values[0], else use x_test[0]\n",
    "local_explanation = tabular_explainer.explain_local(x_test.values[1])"
   ]
  },
  {
   "cell_type": "code",
   "execution_count": 73,
   "metadata": {},
   "outputs": [],
   "source": [
    "# local feature importance information- Since given <x_test[0,:]> as input, only that sample's local imp is shown.\n",
    "local_importance_values = local_explanation.local_importance_values"
   ]
  },
  {
   "cell_type": "code",
   "execution_count": 74,
   "metadata": {},
   "outputs": [
    {
     "data": {
      "text/html": [
       "[[-0.0022595391302655593, -0.001357423704565166, 0.0013973629717768425, 0.03703965158492132, 0.03685985621414326, 0.0004378400384335195, -0.004998876571379815, -0.01800464688990275, -0.002279601456271963, 0.01344656406844671, 0.018126885877852793, -0.01362497328366163, -0.014597058186124244, 0.1753873702435266, -0.0031993686432785604, -0.02084857644851871, 0.022661732891706695, -0.008740631260597626, -0.008051196140097215, -0.04319586672339365], [0.002259539129464208, 0.001357423704702617, -0.001397362973444749, -0.03703965158673653, -0.03685985621609194, -0.00043784003843351754, 0.004998876571853931, 0.018004646890066315, 0.0022796014556914607, -0.013446564068643904, -0.01812688587975595, 0.013624973283040952, 0.014597058185107991, -0.17538737024677123, 0.0031993686422707238, 0.020848576443205306, -0.022661732896505037, 0.008740631258850877, 0.00805119614203926, 0.043195866721384764]]"
      ],
      "text/plain": [
       "[[-0.0022595391302655593,\n",
       "  -0.001357423704565166,\n",
       "  0.0013973629717768425,\n",
       "  0.03703965158492132,\n",
       "  0.03685985621414326,\n",
       "  0.0004378400384335195,\n",
       "  -0.004998876571379815,\n",
       "  -0.01800464688990275,\n",
       "  -0.002279601456271963,\n",
       "  0.01344656406844671,\n",
       "  0.018126885877852793,\n",
       "  -0.01362497328366163,\n",
       "  -0.014597058186124244,\n",
       "  0.1753873702435266,\n",
       "  -0.0031993686432785604,\n",
       "  -0.02084857644851871,\n",
       "  0.022661732891706695,\n",
       "  -0.008740631260597626,\n",
       "  -0.008051196140097215,\n",
       "  -0.04319586672339365],\n",
       " [0.002259539129464208,\n",
       "  0.001357423704702617,\n",
       "  -0.001397362973444749,\n",
       "  -0.03703965158673653,\n",
       "  -0.03685985621609194,\n",
       "  -0.00043784003843351754,\n",
       "  0.004998876571853931,\n",
       "  0.018004646890066315,\n",
       "  0.0022796014556914607,\n",
       "  -0.013446564068643904,\n",
       "  -0.01812688587975595,\n",
       "  0.013624973283040952,\n",
       "  0.014597058185107991,\n",
       "  -0.17538737024677123,\n",
       "  0.0031993686422707238,\n",
       "  0.020848576443205306,\n",
       "  -0.022661732896505037,\n",
       "  0.008740631258850877,\n",
       "  0.00805119614203926,\n",
       "  0.043195866721384764]]"
      ]
     },
     "execution_count": 74,
     "metadata": {},
     "output_type": "execute_result"
    }
   ],
   "source": [
    "local_importance_values"
   ]
  },
  {
   "cell_type": "markdown",
   "metadata": {},
   "source": [
    "The explanation returns two arrays, since there are two classes, there exists an explanation for each class. Although, when there are two classes, the values are opposite of each other, so really only one array is needed.\n"
   ]
  },
  {
   "cell_type": "code",
   "execution_count": 75,
   "metadata": {},
   "outputs": [],
   "source": [
    "# explanation values for class 0, i.e. no churn\n",
    "value=local_importance_values[0]"
   ]
  },
  {
   "cell_type": "markdown",
   "metadata": {},
   "source": [
    "### Plotting an explanation"
   ]
  },
  {
   "cell_type": "code",
   "execution_count": 76,
   "metadata": {},
   "outputs": [
    {
     "data": {
      "image/png": "[encoded data removed]",
      "text/plain": [
       "<Figure size 2880x576 with 1 Axes>"
      ]
     },
     "metadata": {
      "needs_background": "light"
     },
     "output_type": "display_data"
    }
   ],
   "source": [
    "import matplotlib.pyplot as plt\n",
    "plt.figure(figsize=(40,8))\n",
    "plt.bar(all_columns, value)\n",
    "plt.xlabel('Features',fontsize=30)\n",
    "plt.ylabel('Importance',fontsize=30)\n",
    "plt.title('Importance of Features for one sample',fontsize=30)\n",
    "plt.show()"
   ]
  },
  {
   "cell_type": "code",
   "execution_count": 81,
   "metadata": {},
   "outputs": [
    {
     "data": {
      "text/plain": [
       "(0, 0)"
      ]
     },
     "execution_count": 81,
     "metadata": {},
     "output_type": "execute_result"
    }
   ],
   "source": [
    "# prediction, True label  for xtest[1] is\n",
    "ypred[1],y_test[1]"
   ]
  },
  {
   "cell_type": "code",
   "execution_count": 78,
   "metadata": {},
   "outputs": [
    {
     "data": {
      "text/html": [
       "<div>\n",
       "<style scoped>\n",
       "    .dataframe tbody tr th:only-of-type {\n",
       "        vertical-align: middle;\n",
       "    }\n",
       "\n",
       "    .dataframe tbody tr th {\n",
       "        vertical-align: top;\n",
       "    }\n",
       "\n",
       "    .dataframe thead th {\n",
       "        text-align: right;\n",
       "    }\n",
       "</style>\n",
       "<table border=\"1\" class=\"dataframe\">\n",
       "  <thead>\n",
       "    <tr style=\"text-align: right;\">\n",
       "      <th></th>\n",
       "      <th>gender</th>\n",
       "      <th>SeniorCitizen</th>\n",
       "      <th>Partner</th>\n",
       "      <th>Dependents</th>\n",
       "      <th>tenure</th>\n",
       "      <th>PhoneService</th>\n",
       "      <th>MultipleLines</th>\n",
       "      <th>OnlineSecurity</th>\n",
       "      <th>OnlineBackup</th>\n",
       "      <th>DeviceProtection</th>\n",
       "      <th>TechSupport</th>\n",
       "      <th>StreamingTV</th>\n",
       "      <th>StreamingMovies</th>\n",
       "      <th>Contract</th>\n",
       "      <th>PaperlessBilling</th>\n",
       "      <th>MonthlyCharges</th>\n",
       "      <th>TotalCharges</th>\n",
       "      <th>IS_0</th>\n",
       "      <th>IS_DSL</th>\n",
       "      <th>IS_Fiber optic</th>\n",
       "    </tr>\n",
       "  </thead>\n",
       "  <tbody>\n",
       "    <tr>\n",
       "      <th>5218</th>\n",
       "      <td>0</td>\n",
       "      <td>0</td>\n",
       "      <td>1</td>\n",
       "      <td>1</td>\n",
       "      <td>0</td>\n",
       "      <td>1</td>\n",
       "      <td>0</td>\n",
       "      <td>0</td>\n",
       "      <td>0</td>\n",
       "      <td>0</td>\n",
       "      <td>0</td>\n",
       "      <td>0</td>\n",
       "      <td>0</td>\n",
       "      <td>12</td>\n",
       "      <td>1</td>\n",
       "      <td>19.70</td>\n",
       "      <td>2283.300441</td>\n",
       "      <td>1</td>\n",
       "      <td>0</td>\n",
       "      <td>0</td>\n",
       "    </tr>\n",
       "    <tr>\n",
       "      <th>4001</th>\n",
       "      <td>0</td>\n",
       "      <td>0</td>\n",
       "      <td>1</td>\n",
       "      <td>1</td>\n",
       "      <td>45</td>\n",
       "      <td>1</td>\n",
       "      <td>1</td>\n",
       "      <td>0</td>\n",
       "      <td>1</td>\n",
       "      <td>1</td>\n",
       "      <td>1</td>\n",
       "      <td>1</td>\n",
       "      <td>1</td>\n",
       "      <td>24</td>\n",
       "      <td>1</td>\n",
       "      <td>109.75</td>\n",
       "      <td>4900.650000</td>\n",
       "      <td>0</td>\n",
       "      <td>0</td>\n",
       "      <td>1</td>\n",
       "    </tr>\n",
       "  </tbody>\n",
       "</table>\n",
       "</div>"
      ],
      "text/plain": [
       "      gender  SeniorCitizen  Partner  Dependents  tenure  PhoneService  \\\n",
       "5218       0              0        1           1       0             1   \n",
       "4001       0              0        1           1      45             1   \n",
       "\n",
       "      MultipleLines  OnlineSecurity  OnlineBackup  DeviceProtection  \\\n",
       "5218              0               0             0                 0   \n",
       "4001              1               0             1                 1   \n",
       "\n",
       "      TechSupport  StreamingTV  StreamingMovies  Contract  PaperlessBilling  \\\n",
       "5218            0            0                0        12                 1   \n",
       "4001            1            1                1        24                 1   \n",
       "\n",
       "      MonthlyCharges  TotalCharges  IS_0  IS_DSL  IS_Fiber optic  \n",
       "5218           19.70   2283.300441     1       0               0  \n",
       "4001          109.75   4900.650000     0       0               1  "
      ]
     },
     "execution_count": 78,
     "metadata": {},
     "output_type": "execute_result"
    }
   ],
   "source": [
    "x_test.head(2)"
   ]
  },
  {
   "cell_type": "markdown",
   "metadata": {},
   "source": [
    "Here in the explanation of sample 2 in the xtest, you can see that the feature contract is rooting for (0) class(Since we are plotting explanations of 0 class, positive means the feature supports the given class and the value means to which extent) Hence the prediction is also 0. \n",
    "\n",
    "If you look at the feature values of sample 2, you will see that the contract is of 24 months. Take a look at the analysis stage, where we plotted interesting trends, you can see a plot on contract feature. \n",
    "\n",
    "<img src=\"analysis1.png\" width=\"500\" />\n",
    "\n",
    "This plot shows that mostly people who have 24 month contract do not churn (class 0), hence corroborating the prediction as well as the explanation."
   ]
  },
  {
   "cell_type": "code",
   "execution_count": 63,
   "metadata": {},
   "outputs": [],
   "source": [
    "# complete the run that we started in the beginning\n",
    "run.complete()"
   ]
  },
  {
   "cell_type": "markdown",
   "metadata": {},
   "source": [
    "---\n",
    "# Difference\n",
    "----\n",
    "\n",
    "_Difference between autoML explanation and azureML explanation module_\n",
    "\n",
    "1. AutoML creates explanation for each model it tests against the dataset. Whereas when testing models on your own, you can choose the best one, thereby reducing time to calculate the model explanation of the best model.\n",
    "1. AutoML can only explain models that are in the autoML package. Whereas the azureML explanation module can explain any models that are trained on datasets in Python numpy.array, pandas.DataFrame, iml.datatypes.DenseData or scipy.sparse.csr_matrix format."
   ]
  },
  {
   "cell_type": "markdown",
   "metadata": {},
   "source": [
    "--------------------------------------------------------------------------------------------------------------------\n",
    "\n",
    "# Notes\n",
    "\n",
    "--------------------------------------------------------------------------------------------------------------------\n",
    "\n",
    "1. The explanation functions accepts both models and pipelines as input. If a model is provided, the model is expected to have implemented the prediction function \"predict\" or \"predict_proba\" that confirms to the Scikit convention. \n",
    "1. You might come across some errors related explanation and automl in the azure code files. Check the version of the packages and update them using this command\n",
    "\n",
    "pip install --upgrade azureml-sdk[explain,automl] pip install --upgrade azureml-sdk[notebooks"
   ]
  },
  {
   "cell_type": "markdown",
   "metadata": {},
   "source": [
    "---\n",
    "# References\n",
    "---"
   ]
  },
  {
   "cell_type": "markdown",
   "metadata": {},
   "source": [
    "Data\n",
    "https://www.ibm.com/communities/analytics/watson-analytics-blog/predictive-insights-in-the-telco-customer-churn-data-set/\n",
    "\n",
    "Kaggle \n",
    "https://www.kaggle.com/blastchar/telco-customer-churn\n",
    "\n",
    "Paper\n",
    "https://www.irjet.net/archives/V3/i4/IRJET-V3I4213.pdf"
   ]
  },
  {
   "cell_type": "code",
   "execution_count": null,
   "metadata": {},
   "outputs": [],
   "source": []
  }
 ],
 "metadata": {
  "kernelspec": {
   "display_name": "Python 3",
   "language": "python",
   "name": "python3"
  },
  "language_info": {
   "codemirror_mode": {
    "name": "ipython",
    "version": 3
   },
   "file_extension": ".py",
   "mimetype": "text/x-python",
   "name": "python",
   "nbconvert_exporter": "python",
   "pygments_lexer": "ipython3",
   "version": "3.6.8"
  }
 },
 "nbformat": 4,
 "nbformat_minor": 2
}
